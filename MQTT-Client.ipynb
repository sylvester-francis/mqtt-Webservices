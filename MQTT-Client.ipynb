{
 "cells": [
  {
   "cell_type": "code",
   "execution_count": 13,
   "metadata": {},
   "outputs": [],
   "source": [
    "import time\n",
    "import paho.mqtt.client as paho"
   ]
  },
  {
   "cell_type": "code",
   "execution_count": 14,
   "metadata": {},
   "outputs": [
    {
     "name": "stdout",
     "output_type": "stream",
     "text": [
      "192.168.43.73\n"
     ]
    }
   ],
   "source": [
    "broker=\"192.168.43.73\"\n",
    "print(broker)"
   ]
  },
  {
   "cell_type": "code",
   "execution_count": 15,
   "metadata": {},
   "outputs": [],
   "source": [
    "#define callback\n",
    "def on_message(client, userdata, message):\n",
    "    time.sleep(1)\n",
    "    print(\"received message =\",str(message.payload.decode(\"utf-8\")))"
   ]
  },
  {
   "cell_type": "code",
   "execution_count": 16,
   "metadata": {
    "scrolled": false
   },
   "outputs": [
    {
     "name": "stdout",
     "output_type": "stream",
     "text": [
      "connecting to broker  192.168.43.73\n",
      "subscribing \n",
      "publishing \n",
      "received message = Testing Message\n"
     ]
    }
   ],
   "source": [
    "client= paho.Client(\"client-001\") #create client object client1.on_publish = on_publish #assign function to callback client1.connect(broker,port) #establish connection client1.publish(\"house/bulb1\",\"on\")\n",
    "######Bind function to callback\n",
    "client.on_message=on_message\n",
    "#####\n",
    "print(\"connecting to broker \",broker)\n",
    "client.connect(broker)#connect\n",
    "client.loop_start() #start loop to process received messages\n",
    "print(\"subscribing \")\n",
    "client.subscribe(\"WebService\")#subscribe\n",
    "time.sleep(2)\n",
    "print(\"publishing \")\n",
    "client.publish(\"WebService\",\"Testing Message\")#publish\n",
    "time.sleep(4)"
   ]
  },
  {
   "cell_type": "code",
   "execution_count": 17,
   "metadata": {},
   "outputs": [],
   "source": [
    "client.disconnect() #disconnect\n",
    "client.loop_stop() #stop loop"
   ]
  },
  {
   "cell_type": "code",
   "execution_count": 18,
   "metadata": {},
   "outputs": [],
   "source": [
    "import paho.mqtt.client as mqtt #import the client1\n",
    "import time"
   ]
  },
  {
   "cell_type": "code",
   "execution_count": 19,
   "metadata": {},
   "outputs": [],
   "source": [
    "def on_message(client, userdata, message):\n",
    "    print(\"message received \" ,str(message.payload.decode(\"utf-8\")))\n",
    "    print(\"message topic=\",message.topic)\n",
    "    print(\"message qos=\",message.qos)\n",
    "    print(\"message retain flag=\",message.retain)\n",
    "    "
   ]
  },
  {
   "cell_type": "code",
   "execution_count": 20,
   "metadata": {},
   "outputs": [],
   "source": [
    "broker_address=\"192.168.43.73\""
   ]
  },
  {
   "cell_type": "code",
   "execution_count": 21,
   "metadata": {},
   "outputs": [
    {
     "name": "stdout",
     "output_type": "stream",
     "text": [
      "creating new instance\n",
      "connecting to broker\n"
     ]
    }
   ],
   "source": [
    "print(\"creating new instance\")\n",
    "client = mqtt.Client(\"P1\") #create new instance\n",
    "client.on_message=on_message #attach function to callback\n",
    "print(\"connecting to broker\")\n",
    "client.connect(broker_address) #connect to broker\n",
    "client.loop_start() #start the loop"
   ]
  },
  {
   "cell_type": "code",
   "execution_count": 22,
   "metadata": {},
   "outputs": [
    {
     "name": "stdout",
     "output_type": "stream",
     "text": [
      "Subscribing to topic WebService\n"
     ]
    },
    {
     "data": {
      "text/plain": [
       "(0, 1)"
      ]
     },
     "execution_count": 22,
     "metadata": {},
     "output_type": "execute_result"
    }
   ],
   "source": [
    "print(\"Subscribing to topic\",\"WebService\")\n",
    "client.subscribe(\"WebService\")"
   ]
  },
  {
   "cell_type": "code",
   "execution_count": 23,
   "metadata": {},
   "outputs": [
    {
     "name": "stdout",
     "output_type": "stream",
     "text": [
      "Enter the message you wish to publish:Hello\n",
      "Publishing message to topic WebService\n",
      "Do you wish to publish again?:How are you?\n",
      "exiting the loop\n",
      "Do you wish to publish again?:No\n"
     ]
    }
   ],
   "source": [
    "message = input(\"Enter the message you wish to publish:\")\n",
    "client.publish(\"Webservices\",message)\n",
    "print(\"Publishing message to topic\",\"WebService\")\n",
    "time.sleep(4)\n",
    "choice = input(\"Do you wish to publish again?:\")\n",
    "while(choice):\n",
    "    if choice == 'yes' or choice == 'Yes':\n",
    "        message = input(\"Enter the message you wish to publish:\")\n",
    "        client.publish(\"WebService\",message)\n",
    "        print(\"Publishing message to topic\",\"WebService\")\n",
    "        client.loop_stop()\n",
    "    elif choice == 'No' or choice == 'no':\n",
    "        time.sleep(4)\n",
    "        print (\"exiting the loop\")\n",
    "        client.loop_stop()\n",
    "    else:\n",
    "        time.sleep(4)\n",
    "        print (\"exiting the loop\")\n",
    "    choice = input(\"Do you wish to publish again?:\")\n",
    "    if choice == 'No' or choice == 'no':\n",
    "         break\n",
    "    else:\n",
    "        continue\n",
    "    \n",
    "    \n",
    "    \n",
    "    \n",
    "\n"
   ]
  },
  {
   "cell_type": "code",
   "execution_count": 12,
   "metadata": {},
   "outputs": [],
   "source": [
    "#print(\"Publishing message to topic\",\"Webservices\")\n",
    "#client.publish(\"Webservices\",\"Hello World!!\")\n",
    "#time.sleep(4) # wait\n",
    "#client.publish(\"Webservices\",\"This is the second published message\")\n",
    "#time.sleep(4) # wait\n",
    "#client.publish(\"Webservices\",\"We can post multiple messages\")\n",
    "#time.sleep(4) # wait"
   ]
  },
  {
   "cell_type": "code",
   "execution_count": 24,
   "metadata": {},
   "outputs": [],
   "source": [
    "client.loop_stop() #stop the loop"
   ]
  },
  {
   "cell_type": "code",
   "execution_count": null,
   "metadata": {},
   "outputs": [],
   "source": []
  }
 ],
 "metadata": {
  "kernelspec": {
   "display_name": "Python 3",
   "language": "python",
   "name": "python3"
  },
  "language_info": {
   "codemirror_mode": {
    "name": "ipython",
    "version": 3
   },
   "file_extension": ".py",
   "mimetype": "text/x-python",
   "name": "python",
   "nbconvert_exporter": "python",
   "pygments_lexer": "ipython3",
   "version": "3.6.8"
  }
 },
 "nbformat": 4,
 "nbformat_minor": 2
}
